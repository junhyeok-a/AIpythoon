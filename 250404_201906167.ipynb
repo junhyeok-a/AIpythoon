{
 "cells": [
  {
   "cell_type": "code",
   "execution_count": 1,
   "id": "18616952-276e-4802-9370-bcdb821cde00",
   "metadata": {},
   "outputs": [
    {
     "name": "stdout",
     "output_type": "stream",
     "text": [
      "학생 정보 딕셔너리: {'name': '김민수', 'age': 20, 'major': '컴퓨터공학'}\n",
      "이름: 김민수\n",
      "나이: 20\n",
      "전공: 컴퓨터공학\n"
     ]
    }
   ],
   "source": [
    "student = {\n",
    "'name': '김민수',\n",
    "'age': 20,\n",
    "'major': '컴퓨터공학'\n",
    "}\n",
    "print(f\"학생 정보 딕셔너리: {student}\")\n",
    "name = student['name']\n",
    "print(f\"이름: {name}\")\n",
    "age = student['age']\n",
    "print(f\"나이: {age}\")\n",
    "major = student['major']\n",
    "print(f\"전공: {major}\")\n"
   ]
  },
  {
   "cell_type": "code",
   "execution_count": 2,
   "id": "dc73a169-7d8c-45fb-bb1a-44b243eeb090",
   "metadata": {},
   "outputs": [
    {
     "name": "stdout",
     "output_type": "stream",
     "text": [
      "원래 학생 정보 딕셔너리: {'name': '김민수', 'age': 20, 'major': '컴퓨터공학'}\n",
      "요소 추가 후 딕셔너리: {'name': '김민수', 'age': 20, 'major': '컴퓨터공학', 'grade': 4.0}\n",
      "요소 삭제 후 딕셔너리: {'name': '김민수', 'age': 20, 'grade': 4.0}\n"
     ]
    }
   ],
   "source": [
    "student = {\n",
    "'name': '김민수',\n",
    "'age': 20,\n",
    "'major': '컴퓨터공학'\n",
    "}\n",
    "print(f\"원래 학생 정보 딕셔너리: {student}\")\n",
    "student['grade'] = 4.0 # 새로운 키 'grade'와 값 추가\n",
    "print(f\"요소 추가 후 딕셔너리: {student}\")\n",
    "del student['major'] # 키 'major'와 값 삭제\n",
    "print(f\"요소 삭제 후 딕셔너리: {student}\")"
   ]
  },
  {
   "cell_type": "code",
   "execution_count": 3,
   "id": "ab3851f3-4394-4c5f-9ca0-a539b33a1e5c",
   "metadata": {},
   "outputs": [],
   "source": [
    "성적 = [85, 92, 78, 90, 87]\n",
    "평균 = sum(성적) / len(성적)  # 86.4"
   ]
  },
  {
   "cell_type": "code",
   "execution_count": 10,
   "id": "993c2188-a55a-47cc-be3e-9cfb8e95f186",
   "metadata": {},
   "outputs": [
    {
     "name": "stdout",
     "output_type": "stream",
     "text": [
      "86.4\n"
     ]
    }
   ],
   "source": [
    "score = [85, 92, 78, 90, 87]\n",
    "scsum = sum(score)\n",
    "sclen = len(score)\n",
    "scmean = sum(score) / len(score)\n",
    "print(scmean)\n"
   ]
  },
  {
   "cell_type": "code",
   "execution_count": 11,
   "id": "e8a3b26b-b457-4832-80a5-e4ef3e1738b8",
   "metadata": {},
   "outputs": [
    {
     "name": "stdout",
     "output_type": "stream",
     "text": [
      "['철수', '영희', '지영']\n"
     ]
    }
   ],
   "source": [
    "학생들 = [(\"철수\", 85), (\"영희\", 92), (\"민수\", 65), (\"지영\", 78)]\n",
    "합격자 = []\n",
    "\n",
    "for 학생, 점수 in 학생들:\n",
    "    if 점수 >= 70:\n",
    "        합격자.append(학생)\n",
    "\n",
    "print(합격자)  # ['철수', '영희', '지영']"
   ]
  },
  {
   "cell_type": "code",
   "execution_count": 15,
   "id": "e606d520-2b0c-4e65-bf91-ff92b21d0c63",
   "metadata": {},
   "outputs": [
    {
     "name": "stdout",
     "output_type": "stream",
     "text": [
      "숫자 리스트의 요소:\n",
      "1\n",
      "5\n",
      "12\n",
      "8\n",
      "21\n"
     ]
    }
   ],
   "source": [
    "numbers = [1, 5, 12, 8, 21]\n",
    "print(\"숫자 리스트의 요소:\")\n",
    "\n",
    "for num in numbers:\n",
    "    print(num)  # 들여쓰기 추가\n"
   ]
  },
  {
   "cell_type": "code",
   "execution_count": null,
   "id": "ff4d81da-870c-4c70-9cfa-745d650e2481",
   "metadata": {},
   "outputs": [],
   "source": []
  }
 ],
 "metadata": {
  "kernelspec": {
   "display_name": "Python 3 (ipykernel)",
   "language": "python",
   "name": "python3"
  },
  "language_info": {
   "codemirror_mode": {
    "name": "ipython",
    "version": 3
   },
   "file_extension": ".py",
   "mimetype": "text/x-python",
   "name": "python",
   "nbconvert_exporter": "python",
   "pygments_lexer": "ipython3",
   "version": "3.12.6"
  }
 },
 "nbformat": 4,
 "nbformat_minor": 5
}
