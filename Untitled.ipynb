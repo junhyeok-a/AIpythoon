{
 "cells": [
  {
   "cell_type": "code",
   "execution_count": 1,
   "id": "13660c05-293a-4cbc-ad5b-043b1e464ea2",
   "metadata": {},
   "outputs": [
    {
     "name": "stdout",
     "output_type": "stream",
     "text": [
      "학생 정보 딕셔너리: {'name': '김민수', 'age': 20, 'major': '컴퓨터공학'}\n",
      "이름: 김민수\n",
      "나이: 20\n",
      "전공: 컴퓨터공학\n"
     ]
    }
   ],
   "source": [
    "student = {\n",
    "'name': '김민수',\n",
    "'age': 20,\n",
    "'major': '컴퓨터공학'\n",
    "}\n",
    "print(f\"학생 정보 딕셔너리: {student}\")\n",
    "name = student['name']\n",
    "print(f\"이름: {name}\")\n",
    "age = student['age']\n",
    "print(f\"나이: {age}\")\n",
    "major = student['major']\n",
    "print(f\"전공: {major}\")\n"
   ]
  },
  {
   "cell_type": "code",
   "execution_count": 2,
   "id": "f3547faa-5954-4c03-8d49-1bfcb9877be3",
   "metadata": {},
   "outputs": [
    {
     "name": "stdout",
     "output_type": "stream",
     "text": [
      "원래 학생 정보 딕셔너리: {'name': '김민수', 'age': 20, 'major': '컴퓨터공학'}\n",
      "요소 추가 후 딕셔너리: {'name': '김민수', 'age': 20, 'major': '컴퓨터공학', 'grade': 4.0}\n",
      "요소 삭제 후 딕셔너리: {'name': '김민수', 'age': 20, 'grade': 4.0}\n"
     ]
    }
   ],
   "source": [
    "student = {\n",
    "'name': '김민수',\n",
    "'age': 20,\n",
    "'major': '컴퓨터공학'\n",
    "}\n",
    "print(f\"원래 학생 정보 딕셔너리: {student}\")\n",
    "student['grade'] = 4.0 # 새로운 키 'grade'와 값 추가\n",
    "print(f\"요소 추가 후 딕셔너리: {student}\")\n",
    "del student['major'] # 키 'major'와 값 삭제\n",
    "print(f\"요소 삭제 후 딕셔너리: {student}\")"
   ]
  },
  {
   "cell_type": "code",
   "execution_count": 7,
   "id": "e9c23bef-e1bf-4662-aa23-c5010623ba3e",
   "metadata": {},
   "outputs": [
    {
     "ename": "IndentationError",
     "evalue": "expected an indented block after 'for' statement on line 8 (1418345354.py, line 9)",
     "output_type": "error",
     "traceback": [
      "\u001b[0;36m  Cell \u001b[0;32mIn[7], line 9\u001b[0;36m\u001b[0m\n\u001b[0;31m    print(f\"{fruit}: {price}원\")\u001b[0m\n\u001b[0m    ^\u001b[0m\n\u001b[0;31mIndentationError\u001b[0m\u001b[0;31m:\u001b[0m expected an indented block after 'for' statement on line 8\n"
     ]
    }
   ],
   "source": [
    "fruit_prices = {\n",
    "'사과': 1500,\n",
    "'바나나': 800,\n",
    "'딸기': 3000,\n",
    "'오렌지': 1200\n",
    "}\n",
    "print(\"과일 가격 정보:\")\n",
    "for fruit, price in fruit_prices.items():\n",
    "print(f\"{fruit}: {price}원\")\n",
    "print(\"\\n과일 목록:\")\n",
    "for fruit in fruit_prices.keys():\n",
    "문제 4: 딕셔너리 요소 값 변경\n",
    "CoT:\n",
    "파이썬 코드:\n",
    "Python\n",
    "문제 5: 두 개의 딕셔너리 합치기\n",
    "CoT:\n",
    "파이썬 코드:\n",
    "Python\n",
    "print(fruit)\n",
    "print(\"\\n가격 목록:\")\n",
    "for price in fruit_prices.values():\n",
    "print(f\"{price}원\")\n"
   ]
  },
  {
   "cell_type": "code",
   "execution_count": 10,
   "id": "c19860da-6777-48f3-bc27-dc6ae6ff21cc",
   "metadata": {},
   "outputs": [
    {
     "name": "stdout",
     "output_type": "stream",
     "text": [
      "첫 번째 딕셔너리: {'a': 1, 'b': 2, 'c': 3}\n",
      "두 번째 딕셔너리: {'b': 4, 'd': 5}\n",
      "두 딕셔너리 합치기 (update() 결과): {'a': 1, 'b': 4, 'c': 3, 'd': 5}\n"
     ]
    }
   ],
   "source": [
    "dict1 = {'a': 1, 'b': 2, 'c': 3}\n",
    "dict2 = {'b': 4, 'd': 5}\n",
    "print(f\"첫 번째 딕셔너리: {dict1}\")\n",
    "print(f\"두 번째 딕셔너리: {dict2}\")\n",
    "dict1.update(dict2)\n",
    "print(f\"두 딕셔너리 합치기 (update() 결과): {dict1}\")"
   ]
  },
  {
   "cell_type": "code",
   "execution_count": 13,
   "id": "7bb0baab-d86e-4057-b30b-e8b4bd495b7d",
   "metadata": {},
   "outputs": [
    {
     "name": "stdin",
     "output_type": "stream",
     "text": [
      "두 정수를 입력하세요: 8 5\n"
     ]
    },
    {
     "name": "stdout",
     "output_type": "stream",
     "text": [
      "13\n"
     ]
    }
   ],
   "source": [
    "a, b = map(int, input(\"두 정수를 입력하세요:\").split())\n",
    "\n",
    "print(a + b)"
   ]
  },
  {
   "cell_type": "code",
   "execution_count": 14,
   "id": "9ee40eab-0bdf-40d2-8fe1-e68b763b6650",
   "metadata": {},
   "outputs": [
    {
     "name": "stdin",
     "output_type": "stream",
     "text": [
      "키를 입력하시오:  178\n",
      "몸무게를 입력하시오:  80\n"
     ]
    },
    {
     "name": "stdout",
     "output_type": "stream",
     "text": [
      "당신의 bmi는 25.25 입니다\n"
     ]
    }
   ],
   "source": [
    "h_cm = float(input(\"키를 입력하시오: \"))\n",
    "w_kg = float(input(\"몸무게를 입력하시오: \"))\n",
    "h_m = h_cm / 100\n",
    "bmi = w_kg / (h_m**2)\n",
    "print(f\"당신의 bmi는 {bmi:.2f} 입니다\")"
   ]
  },
  {
   "cell_type": "code",
   "execution_count": null,
   "id": "37d0ec60-8125-46a9-8c67-94e6546362db",
   "metadata": {},
   "outputs": [],
   "source": []
  }
 ],
 "metadata": {
  "kernelspec": {
   "display_name": "Python 3 (ipykernel)",
   "language": "python",
   "name": "python3"
  },
  "language_info": {
   "codemirror_mode": {
    "name": "ipython",
    "version": 3
   },
   "file_extension": ".py",
   "mimetype": "text/x-python",
   "name": "python",
   "nbconvert_exporter": "python",
   "pygments_lexer": "ipython3",
   "version": "3.12.6"
  }
 },
 "nbformat": 4,
 "nbformat_minor": 5
}
