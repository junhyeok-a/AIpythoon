{
 "cells": [
  {
   "cell_type": "code",
   "execution_count": 46,
   "id": "06fb43c7-bb6a-42a7-94ab-bcfd8b1f6239",
   "metadata": {
    "scrolled": true
   },
   "outputs": [
    {
     "name": "stdin",
     "output_type": "stream",
     "text": [
      "나이를 입력하세요:  20\n"
     ]
    },
    {
     "name": "stdout",
     "output_type": "stream",
     "text": [
      "당신은 내년에 21 살입니다.\n"
     ]
    }
   ],
   "source": [
    "age = input(\"나이를 입력하세요: \") \n",
    "age = int(age) \n",
    "print(\"당신은 내년에\", age + 1, \"살입니다.\")\n"
   ]
  },
  {
   "cell_type": "code",
   "execution_count": 13,
   "id": "9a585b09-d7cf-4281-bd08-1e0041ea9dc3",
   "metadata": {},
   "outputs": [
    {
     "name": "stdout",
     "output_type": "stream",
     "text": [
      "좋아요, 합격입니다!\n"
     ]
    }
   ],
   "source": [
    "score = 78\n",
    "if score >= 90:\n",
    " print(\"정말 잘했어요!\")\n",
    "elif score >= 60:\n",
    " print(\"좋아요, 합격입니다!\")\n",
    "else:\n",
    " print(\"다음에 더 잘해봐요!\")\n"
   ]
  },
  {
   "cell_type": "code",
   "execution_count": 16,
   "id": "b7e28a86-ab86-45d7-a89b-e22e4e11e1f3",
   "metadata": {
    "scrolled": true
   },
   "outputs": [
    {
     "name": "stdin",
     "output_type": "stream",
     "text": [
      "숫자를 입력하세요:  8754641\n"
     ]
    },
    {
     "name": "stdout",
     "output_type": "stream",
     "text": [
      "양수입니다!\n"
     ]
    }
   ],
   "source": [
    "score = input(\"숫자를 입력하세요: \")\n",
    "score = int(score) \n",
    "if score > 0:\n",
    " print(\"양수입니다!\")\n",
    "elif score ==0:\n",
    " print(\"0입니다\")\n",
    "else:\n",
    " print(\"음수입니다\")"
   ]
  },
  {
   "cell_type": "code",
   "execution_count": 17,
   "id": "6fb8998f-9936-4f1f-b211-5922e671611c",
   "metadata": {},
   "outputs": [
    {
     "name": "stdin",
     "output_type": "stream",
     "text": [
      "숫자를 입력하세요:  5\n"
     ]
    },
    {
     "name": "stdout",
     "output_type": "stream",
     "text": [
      "홀수입니다\n"
     ]
    }
   ],
   "source": [
    "score = input(\"숫자를 입력하세요: \")\n",
    "score = int(score) \n",
    "if score % 2 ==0:\n",
    " print(\"짝수입니다!\")\n",
    "else:\n",
    " print(\"홀수입니다\")"
   ]
  },
  {
   "cell_type": "code",
   "execution_count": 23,
   "id": "d7173205-f02f-48a4-a65e-090beeef667a",
   "metadata": {},
   "outputs": [
    {
     "name": "stdin",
     "output_type": "stream",
     "text": [
      "숫자를 입력하세요: 45\n"
     ]
    },
    {
     "name": "stdout",
     "output_type": "stream",
     "text": [
      "잘못된 입력입니다\n"
     ]
    }
   ],
   "source": [
    "num = input(\"숫자를 입력하세요:\")\n",
    "num = int(num)\n",
    "if num < 4:\n",
    "    print(num)\n",
    "else:\n",
    "    print(\"잘못된 입력입니다\") "
   ]
  },
  {
   "cell_type": "code",
   "execution_count": 51,
   "id": "1b5fbbde-3eef-4e53-a801-e6a85b1f8114",
   "metadata": {},
   "outputs": [
    {
     "name": "stdin",
     "output_type": "stream",
     "text": [
      "플레이어 1과 2의 선택 (1: 가위, 2: 바위, 3: 보)을 공백으로 구분하여 입력:  2 3\n"
     ]
    },
    {
     "name": "stdout",
     "output_type": "stream",
     "text": [
      "플레이어 1: 바위, 플레이어 2: 보\n",
      "결과: 플레이어 2 승리!\n"
     ]
    }
   ],
   "source": [
    "def rock_paper_scissors():\n",
    "    choices = {1: \"가위\", 2: \"바위\", 3: \"보\"}\n",
    "    \n",
    "    try:\n",
    "        player1, player2 = map(int, input(\"플레이어 1과 2의 선택 (1: 가위, 2: 바위, 3: 보)을 공백으로 구분하여 입력: \").split())\n",
    "\n",
    "        if player1 not in choices or player2 not in choices:\n",
    "            print(\"올바른 숫자를 입력하세요! (1, 2, 3만 가능)\")\n",
    "            return\n",
    "\n",
    "        print(f\"플레이어 1: {choices[player1]}, 플레이어 2: {choices[player2]}\")\n",
    "        \n",
    "        if player1 == player2:\n",
    "            print(\"결과: 무승부!\")\n",
    "        elif (player1 == 1 and player2 == 3) or (player1 == 2 and player2 == 1) or (player1 == 3 and player2 == 2):\n",
    "            print(\"결과: 플레이어 1 승리!\")\n",
    "        else:\n",
    "            print(\"결과: 플레이어 2 승리!\")\n",
    "    \n",
    "    except ValueError:\n",
    "        print(\"올바른 숫자를 입력하세요!\")\n",
    "\n",
    "rock_paper_scissors()\n"
   ]
  },
  {
   "cell_type": "code",
   "execution_count": null,
   "id": "bcdc45d9-78a7-4302-9fa1-06b2f0e87462",
   "metadata": {},
   "outputs": [],
   "source": []
  }
 ],
 "metadata": {
  "kernelspec": {
   "display_name": "Python 3 (ipykernel)",
   "language": "python",
   "name": "python3"
  },
  "language_info": {
   "codemirror_mode": {
    "name": "ipython",
    "version": 3
   },
   "file_extension": ".py",
   "mimetype": "text/x-python",
   "name": "python",
   "nbconvert_exporter": "python",
   "pygments_lexer": "ipython3",
   "version": "3.12.6"
  }
 },
 "nbformat": 4,
 "nbformat_minor": 5
}
